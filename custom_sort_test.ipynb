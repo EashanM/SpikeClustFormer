{
 "cells": [
  {
   "cell_type": "code",
   "execution_count": 7,
   "id": "10fbfa46",
   "metadata": {},
   "outputs": [],
   "source": [
    "import matplotlib.pyplot as plt\n",
    "from pprint import pprint\n",
    "import MEArec as mr\n",
    "import numpy as np\n",
    "from cus_sort.custom_sorter import *\n",
    "import spikeinterface.extractors as se\n",
    "import spikeinterface.sorters as ss\n",
    "import sys"
   ]
  },
  {
   "cell_type": "code",
   "execution_count": 10,
   "id": "53751180",
   "metadata": {},
   "outputs": [],
   "source": [
    "def test_custom_sorter():\n",
    "    print(\"=== Testing Custom SpikeInterface Sorter ===\")\n",
    "    \n",
    "    # Create a toy recording for testing\n",
    "    recording, sorting_true = se.toy_example(\n",
    "        duration=10, \n",
    "        num_channels=4, \n",
    "        num_units=5,\n",
    "        num_segments=1,\n",
    "        seed=42\n",
    "    )\n",
    "    \n",
    "    print(f\"Test recording: {recording}\")\n",
    "    print(f\"Available sorters: {ss.available_sorters()}\")\n",
    "    \n",
    "    # Verify your sorter is registered\n",
    "    if 'myspikesorter' not in ss.available_sorters():\n",
    "        print(\"ERROR: myspikesorter not found in available sorters!\")\n",
    "        return\n",
    "    \n",
    "    # Run your custom sorter\n",
    "    print(\"\\nRunning custom sorter...\")\n",
    "    sorting = ss.run_sorter(\n",
    "        sorter_name='myspikesorter',\n",
    "        recording=recording,\n",
    "        output_folder='sorting_output/test_output',\n",
    "        detect_threshold=5.0,\n",
    "        clustering_method='kmeans',\n",
    "        remove_existing_folder=True,\n",
    "        verbose=True\n",
    "    )\n",
    "    \n",
    "    print(f\"\\nSorting completed! Found {len(sorting.get_unit_ids())} units\")\n",
    "    print(f\"Unit IDs: {sorting.get_unit_ids()}\")\n",
    "    \n",
    "    # Display spike counts for each unit\n",
    "    for unit_id in sorting.get_unit_ids():\n",
    "        spike_train = sorting.get_unit_spike_train(unit_id)\n",
    "        print(f\"Unit {unit_id}: {len(spike_train)} spikes\")\n",
    "    \n",
    "    print(\"\\n=== Test completed successfully! ===\")"
   ]
  },
  {
   "cell_type": "code",
   "execution_count": 11,
   "id": "9b188038",
   "metadata": {},
   "outputs": [
    {
     "name": "stdout",
     "output_type": "stream",
     "text": [
      "=== Testing Custom SpikeInterface Sorter ===\n",
      "Test recording: GroundTruthRecording (InjectTemplatesRecording): 4 channels - 30.0kHz - 1 segments \n",
      "                      300,000 samples - 10.00s - float32 dtype - 4.58 MiB\n",
      "Available sorters: ['combinato', 'hdsort', 'herdingspikes', 'ironclust', 'kilosort', 'kilosort2', 'kilosort2_5', 'kilosort3', 'kilosort4', 'klusta', 'mountainsort4', 'mountainsort5', 'myspikesorter', 'pykilosort', 'simple', 'spykingcircus', 'spykingcircus2', 'tridesclous', 'tridesclous2', 'waveclus', 'waveclus_snippets', 'yass']\n",
      "\n",
      "Running custom sorter...\n",
      "Generated 1000 spikes across 5 units.\n",
      "Spike times range: 982.74 to 1799655.44 samples\n",
      "myspikesorter run time 0.00s\n",
      "\n",
      "Sorting completed! Found 5 units\n",
      "Unit IDs: [0 1 2 3 4]\n",
      "Unit 0: 185 spikes\n",
      "Unit 1: 201 spikes\n",
      "Unit 2: 198 spikes\n",
      "Unit 3: 223 spikes\n",
      "Unit 4: 193 spikes\n",
      "\n",
      "=== Test completed successfully! ===\n"
     ]
    },
    {
     "name": "stderr",
     "output_type": "stream",
     "text": [
      "/var/folders/5w/gj94wfqd7mg6xbx29r02m2140000gp/T/ipykernel_8316/2022542245.py:23: DeprecationWarning: `output_folder` is deprecated and will be removed in version 0.103.0 Please use folder instead\n",
      "  sorting = ss.run_sorter(\n"
     ]
    }
   ],
   "source": [
    "test_custom_sorter()"
   ]
  },
  {
   "cell_type": "code",
   "execution_count": null,
   "id": "f50b117f",
   "metadata": {},
   "outputs": [],
   "source": []
  }
 ],
 "metadata": {
  "kernelspec": {
   "display_name": ".venv",
   "language": "python",
   "name": "python3"
  },
  "language_info": {
   "codemirror_mode": {
    "name": "ipython",
    "version": 3
   },
   "file_extension": ".py",
   "mimetype": "text/x-python",
   "name": "python",
   "nbconvert_exporter": "python",
   "pygments_lexer": "ipython3",
   "version": "3.12.6"
  }
 },
 "nbformat": 4,
 "nbformat_minor": 5
}
