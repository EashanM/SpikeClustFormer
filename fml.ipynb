{
 "cells": [
  {
   "cell_type": "code",
   "execution_count": 2,
   "id": "da3c16db",
   "metadata": {},
   "outputs": [
    {
     "name": "stdout",
     "output_type": "stream",
     "text": [
      "Available sorters: ['combinato', 'hdsort', 'herdingspikes', 'ironclust', 'kilosort', 'kilosort2', 'kilosort2_5', 'kilosort3', 'kilosort4', 'klusta', 'mountainsort4', 'mountainsort5', 'myspikesorter', 'pykilosort', 'simple', 'spykingcircus', 'spykingcircus2', 'tridesclous', 'tridesclous2', 'waveclus', 'waveclus_snippets', 'yass']\n",
      "Number of segments: 1\n",
      "Detected 0 spikes across 4 channels (clusters).\n",
      "myspikesorter run time 0.01s\n",
      "✓ Success! Found 0 units\n"
     ]
    },
    {
     "name": "stderr",
     "output_type": "stream",
     "text": [
      "/var/folders/5w/gj94wfqd7mg6xbx29r02m2140000gp/T/ipykernel_16248/1483331879.py:21: DeprecationWarning: `output_folder` is deprecated and will be removed in version 0.103.0 Please use folder instead\n",
      "  sorting = ss.run_sorter(\n"
     ]
    }
   ],
   "source": [
    "import sys\n",
    "import os\n",
    "sys.path.append('cus_sort')\n",
    "\n",
    "import spikeinterface.extractors as se\n",
    "import spikeinterface.sorters as ss\n",
    "\n",
    "print(\"Available sorters:\", ss.available_sorters())\n",
    "\n",
    "\n",
    "if 'myspikesorter' in ss.available_sorters():\n",
    "    # Force single segment\n",
    "    recording, _ = se.toy_example(\n",
    "        duration=5, \n",
    "        num_channels=4, \n",
    "        num_segments=1  # ← Add this parameter\n",
    "    )\n",
    "    \n",
    "    print(f\"Number of segments: {recording.get_num_segments()}\")\n",
    "    \n",
    "    sorting = ss.run_sorter(\n",
    "        sorter_name='myspikesorter',\n",
    "        recording=recording,\n",
    "        output_folder='test_output',\n",
    "        remove_existing_folder=True,\n",
    "        verbose=True\n",
    "    )\n",
    "    print(f\"✓ Success! Found {len(sorting.get_unit_ids())} units\")\n",
    "\n"
   ]
  },
  {
   "cell_type": "code",
   "execution_count": 1,
   "id": "72cf3893",
   "metadata": {},
   "outputs": [
    {
     "name": "stdout",
     "output_type": "stream",
     "text": [
      "✓ myspikesorter package imported: 0.1.0\n",
      "Registered myspikesorter. Installed: True\n",
      "✓ myspikesorter successfully registered!\n",
      "✓ myspikesorter package imported: 0.1.0\n",
      "Registered myspikesorter. Installed: True\n",
      "✓ myspikesorter successfully registered!\n"
     ]
    },
    {
     "data": {
      "text/plain": [
       "<module 'cus_sort.custom_sorter' from '/Users/eashanmonga/PycharmProjects/STATS320_FinalProject/cus_sort/custom_sorter.py'>"
      ]
     },
     "execution_count": 1,
     "metadata": {},
     "output_type": "execute_result"
    }
   ],
   "source": [
    "import cus_sort.custom_sorter\n",
    "import importlib\n",
    "importlib.reload(cus_sort.custom_sorter)"
   ]
  },
  {
   "cell_type": "code",
   "execution_count": null,
   "id": "4414c207",
   "metadata": {},
   "outputs": [],
   "source": []
  }
 ],
 "metadata": {
  "kernelspec": {
   "display_name": ".venv",
   "language": "python",
   "name": "python3"
  },
  "language_info": {
   "codemirror_mode": {
    "name": "ipython",
    "version": 3
   },
   "file_extension": ".py",
   "mimetype": "text/x-python",
   "name": "python",
   "nbconvert_exporter": "python",
   "pygments_lexer": "ipython3",
   "version": "3.12.6"
  }
 },
 "nbformat": 4,
 "nbformat_minor": 5
}
